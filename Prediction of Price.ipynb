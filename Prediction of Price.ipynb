{
 "cells": [
  {
   "cell_type": "markdown",
   "source": [
    "# Price prediction from Airbnb Listing Data\n",
    "### Import libraries  "
   ],
   "metadata": {
    "collapsed": false,
    "pycharm": {
     "name": "#%% md\n"
    }
   }
  },
  {
   "cell_type": "code",
   "execution_count": 21,
   "metadata": {
    "collapsed": true,
    "pycharm": {
     "is_executing": false
    }
   },
   "outputs": [],
   "source": [
    "import pandas as pd\n",
    "import os"
   ]
  },
  {
   "cell_type": "markdown",
   "source": [
    "### Read the Data and Pick the attributes"
   ],
   "metadata": {
    "collapsed": false,
    "pycharm": {
     "name": "#%% md\n"
    }
   }
  },
  {
   "cell_type": "code",
   "execution_count": 22,
   "outputs": [
    {
     "name": "stderr",
     "text": [
      "c:\\users\\ss042\\appdata\\local\\programs\\python\\python38\\lib\\site-packages\\IPython\\core\\interactiveshell.py:3145: DtypeWarning: Columns (61,62,94) have mixed types.Specify dtype option on import or set low_memory=False.\n  has_raised = await self.run_ast_nodes(code_ast.body, cell_name,\n",
      "c:\\users\\ss042\\appdata\\local\\programs\\python\\python38\\lib\\site-packages\\IPython\\core\\interactiveshell.py:3145: DtypeWarning: Columns (43,61,62,94,95) have mixed types.Specify dtype option on import or set low_memory=False.\n  has_raised = await self.run_ast_nodes(code_ast.body, cell_name,\n",
      "c:\\users\\ss042\\appdata\\local\\programs\\python\\python38\\lib\\site-packages\\IPython\\core\\interactiveshell.py:3145: DtypeWarning: Columns (61,62,94,95) have mixed types.Specify dtype option on import or set low_memory=False.\n  has_raised = await self.run_ast_nodes(code_ast.body, cell_name,\n"
     ],
     "output_type": "stream"
    },
    {
     "name": "stdout",
     "text": [
      "File created\n"
     ],
     "output_type": "stream"
    },
    {
     "data": {
      "text/plain": "      id    neighbourhood neighbourhood_cleansed zipcode  latitude  longitude  \\\n1   2595          Midtown                Midtown   10018  40.75362  -73.98377   \n2   3831         Brooklyn           Clinton Hill   11238  40.68514  -73.95976   \n3   5099        Manhattan            Murray Hill   10016  40.74767  -73.97500   \n8   5238  Lower East Side              Chinatown   10002  40.71344  -73.99037   \n10  5552        Manhattan           West Village   10014  40.73552  -74.01042   \n\n      price  \n1   $225.00  \n2    $89.00  \n3   $200.00  \n8   $150.00  \n10  $160.00  ",
      "text/html": "<div>\n<style scoped>\n    .dataframe tbody tr th:only-of-type {\n        vertical-align: middle;\n    }\n\n    .dataframe tbody tr th {\n        vertical-align: top;\n    }\n\n    .dataframe thead th {\n        text-align: right;\n    }\n</style>\n<table border=\"1\" class=\"dataframe\">\n  <thead>\n    <tr style=\"text-align: right;\">\n      <th></th>\n      <th>id</th>\n      <th>neighbourhood</th>\n      <th>neighbourhood_cleansed</th>\n      <th>zipcode</th>\n      <th>latitude</th>\n      <th>longitude</th>\n      <th>price</th>\n    </tr>\n  </thead>\n  <tbody>\n    <tr>\n      <th>1</th>\n      <td>2595</td>\n      <td>Midtown</td>\n      <td>Midtown</td>\n      <td>10018</td>\n      <td>40.75362</td>\n      <td>-73.98377</td>\n      <td>$225.00</td>\n    </tr>\n    <tr>\n      <th>2</th>\n      <td>3831</td>\n      <td>Brooklyn</td>\n      <td>Clinton Hill</td>\n      <td>11238</td>\n      <td>40.68514</td>\n      <td>-73.95976</td>\n      <td>$89.00</td>\n    </tr>\n    <tr>\n      <th>3</th>\n      <td>5099</td>\n      <td>Manhattan</td>\n      <td>Murray Hill</td>\n      <td>10016</td>\n      <td>40.74767</td>\n      <td>-73.97500</td>\n      <td>$200.00</td>\n    </tr>\n    <tr>\n      <th>8</th>\n      <td>5238</td>\n      <td>Lower East Side</td>\n      <td>Chinatown</td>\n      <td>10002</td>\n      <td>40.71344</td>\n      <td>-73.99037</td>\n      <td>$150.00</td>\n    </tr>\n    <tr>\n      <th>10</th>\n      <td>5552</td>\n      <td>Manhattan</td>\n      <td>West Village</td>\n      <td>10014</td>\n      <td>40.73552</td>\n      <td>-74.01042</td>\n      <td>$160.00</td>\n    </tr>\n  </tbody>\n</table>\n</div>"
     },
     "metadata": {},
     "output_type": "execute_result",
     "execution_count": 22
    }
   ],
   "source": [
    "files = [file for file in os.listdir('./Listing Data After COVID')]\n",
    "neighbourhoods_df = pd.read_csv('neighbourhoods.csv')\n",
    "\n",
    "after_COVID_df = pd.DataFrame()\n",
    "\n",
    "for file in files:\n",
    "    df = pd.read_csv(\"./Listing Data After COVID/\"+ file)\n",
    "    df = df[df.room_type.eq(\"Entire home/apt\")]\n",
    "    df = df[['id', 'neighbourhood', 'neighbourhood_cleansed', \n",
    "             'zipcode', 'latitude', 'longitude', 'price']]\n",
    "    after_COVID_df = pd.concat([after_COVID_df, df])\n",
    "\n",
    "after_COVID_df.to_csv(\"after_COVID.csv\", index=False)\n",
    "print(\"File created\")\n",
    "after_COVID_df.head()"
   ],
   "metadata": {
    "collapsed": false,
    "pycharm": {
     "name": "#%%\n",
     "is_executing": false
    }
   }
  },
  {
   "cell_type": "markdown",
   "source": [
    "### Encode a caegorical data into integer"
   ],
   "metadata": {
    "collapsed": false,
    "pycharm": {
     "name": "#%% md\n"
    }
   }
  },
  {
   "cell_type": "code",
   "execution_count": 24,
   "outputs": [],
   "source": [
    "from sklearn.preprocessing import LabelEncoder\n",
    "\n",
    "lb_make = LabelEncoder()\n",
    "neighbourhoods_df['neighbourhood_group_number'] = lb_make.fit_transform(neighbourhoods_df['neighbourhood_group'])\n",
    "neighbourhoods_df['neighbourhood_number'] = lb_make.fit_transform(neighbourhoods_df['neighbourhood'])"
   ],
   "metadata": {
    "collapsed": false,
    "pycharm": {
     "name": "#%%\n",
     "is_executing": false
    }
   }
  },
  {
   "cell_type": "markdown",
   "source": [
    "### Merge the data with neighbourhood table"
   ],
   "metadata": {
    "collapsed": false,
    "pycharm": {
     "name": "#%% md\n"
    }
   }
  },
  {
   "cell_type": "code",
   "execution_count": 25,
   "outputs": [],
   "source": [
    "Listing_neighbourhood = pd.merge(after_COVID_df, neighbourhoods_df, \n",
    "         left_on= \"neighbourhood_cleansed\", right_on=\"neighbourhood\", \n",
    "         how = 'left')"
   ],
   "metadata": {
    "collapsed": false,
    "pycharm": {
     "name": "#%%\n",
     "is_executing": false
    }
   }
  },
  {
   "cell_type": "markdown",
   "source": [
    "### Create the new columns that represents the neighbourhood and its group"
   ],
   "metadata": {
    "collapsed": false,
    "pycharm": {
     "name": "#%% md\n",
     "is_executing": false
    }
   }
  },
  {
   "cell_type": "code",
   "execution_count": 26,
   "outputs": [],
   "source": [
    "after_COVID_df['neighbourhood_group_number'] = Listing_neighbourhood['neighbourhood_group_number']\n",
    "after_COVID_df['neighbourhood_number'] = Listing_neighbourhood['neighbourhood_number']\n",
    "after_COVID_df = after_COVID_df.drop(columns = ['neighbourhood', 'neighbourhood_cleansed'], axis=1)"
   ],
   "metadata": {
    "collapsed": false,
    "pycharm": {
     "name": "#%%\n",
     "is_executing": false
    }
   }
  },
  {
   "cell_type": "markdown",
   "source": [
    "### Check the missing rows and take care of it"
   ],
   "metadata": {
    "collapsed": false,
    "pycharm": {
     "name": "#%% md\n"
    }
   }
  },
  {
   "cell_type": "code",
   "execution_count": 27,
   "outputs": [
    {
     "name": "stdout",
     "text": [
      "id                            1202\nzipcode                          0\nlatitude                      1202\nlongitude                     1202\nprice                         1202\nneighbourhood_group_number    1202\nneighbourhood_number          1202\ndtype: int64\n"
     ],
     "output_type": "stream"
    }
   ],
   "source": [
    "nan_df = after_COVID_df[after_COVID_df.isna().any(axis =1 )]\n",
    "print(nan_df.count())"
   ],
   "metadata": {
    "collapsed": false,
    "pycharm": {
     "name": "#%%\n",
     "is_executing": false
    }
   }
  },
  {
   "cell_type": "markdown",
   "source": [
    "### Delete the dublications"
   ],
   "metadata": {
    "collapsed": false,
    "pycharm": {
     "name": "#%% md\n",
     "is_executing": false
    }
   }
  },
  {
   "cell_type": "code",
   "execution_count": 28,
   "outputs": [
    {
     "data": {
      "text/plain": "           id zipcode  latitude  longitude    price  \\\n86      22983   10002  40.71938  -73.99101  $300.00   \n734    287481   11206  40.70839  -73.94289  $120.00   \n1330   657734   11233  40.68248  -73.92246  $250.00   \n1380   686480   10031  40.82379  -73.94849  $150.00   \n1480   743150   10040  40.85410  -73.93365  $125.00   \n1767   853549   11217  40.67169  -73.97436  $178.00   \n1962  1020625   10075  40.77432  -73.95787  $136.00   \n2003  1062983   10002  40.71809  -73.99051   $68.00   \n2039  1095278   10301  40.63324  -74.09678  $143.00   \n2465  1573073   10036  40.75889  -73.99054  $150.00   \n\n      neighbourhood_group_number  neighbourhood_number  \n86                             2                   218  \n734                            2                    40  \n1330                           3                     4  \n1380                           1                    44  \n1480                           2                    92  \n1767                           1                    55  \n1962                           2                   218  \n2003                           2                   210  \n2039                           1                   223  \n2465                           1                   225  ",
      "text/html": "<div>\n<style scoped>\n    .dataframe tbody tr th:only-of-type {\n        vertical-align: middle;\n    }\n\n    .dataframe tbody tr th {\n        vertical-align: top;\n    }\n\n    .dataframe thead th {\n        text-align: right;\n    }\n</style>\n<table border=\"1\" class=\"dataframe\">\n  <thead>\n    <tr style=\"text-align: right;\">\n      <th></th>\n      <th>id</th>\n      <th>zipcode</th>\n      <th>latitude</th>\n      <th>longitude</th>\n      <th>price</th>\n      <th>neighbourhood_group_number</th>\n      <th>neighbourhood_number</th>\n    </tr>\n  </thead>\n  <tbody>\n    <tr>\n      <th>86</th>\n      <td>22983</td>\n      <td>10002</td>\n      <td>40.71938</td>\n      <td>-73.99101</td>\n      <td>$300.00</td>\n      <td>2</td>\n      <td>218</td>\n    </tr>\n    <tr>\n      <th>734</th>\n      <td>287481</td>\n      <td>11206</td>\n      <td>40.70839</td>\n      <td>-73.94289</td>\n      <td>$120.00</td>\n      <td>2</td>\n      <td>40</td>\n    </tr>\n    <tr>\n      <th>1330</th>\n      <td>657734</td>\n      <td>11233</td>\n      <td>40.68248</td>\n      <td>-73.92246</td>\n      <td>$250.00</td>\n      <td>3</td>\n      <td>4</td>\n    </tr>\n    <tr>\n      <th>1380</th>\n      <td>686480</td>\n      <td>10031</td>\n      <td>40.82379</td>\n      <td>-73.94849</td>\n      <td>$150.00</td>\n      <td>1</td>\n      <td>44</td>\n    </tr>\n    <tr>\n      <th>1480</th>\n      <td>743150</td>\n      <td>10040</td>\n      <td>40.85410</td>\n      <td>-73.93365</td>\n      <td>$125.00</td>\n      <td>2</td>\n      <td>92</td>\n    </tr>\n    <tr>\n      <th>1767</th>\n      <td>853549</td>\n      <td>11217</td>\n      <td>40.67169</td>\n      <td>-73.97436</td>\n      <td>$178.00</td>\n      <td>1</td>\n      <td>55</td>\n    </tr>\n    <tr>\n      <th>1962</th>\n      <td>1020625</td>\n      <td>10075</td>\n      <td>40.77432</td>\n      <td>-73.95787</td>\n      <td>$136.00</td>\n      <td>2</td>\n      <td>218</td>\n    </tr>\n    <tr>\n      <th>2003</th>\n      <td>1062983</td>\n      <td>10002</td>\n      <td>40.71809</td>\n      <td>-73.99051</td>\n      <td>$68.00</td>\n      <td>2</td>\n      <td>210</td>\n    </tr>\n    <tr>\n      <th>2039</th>\n      <td>1095278</td>\n      <td>10301</td>\n      <td>40.63324</td>\n      <td>-74.09678</td>\n      <td>$143.00</td>\n      <td>1</td>\n      <td>223</td>\n    </tr>\n    <tr>\n      <th>2465</th>\n      <td>1573073</td>\n      <td>10036</td>\n      <td>40.75889</td>\n      <td>-73.99054</td>\n      <td>$150.00</td>\n      <td>1</td>\n      <td>225</td>\n    </tr>\n  </tbody>\n</table>\n</div>"
     },
     "metadata": {},
     "output_type": "execute_result",
     "execution_count": 28
    }
   ],
   "source": [
    "duplicate_df = after_COVID_df[after_COVID_df['id'].duplicated(keep=False)]\n",
    "result = duplicate_df.sort_values(by=['id'])\n",
    "after_COVID_df.drop_duplicates(subset =\"id\", keep = False, inplace = True) \n",
    "after_COVID_df.head(10)"
   ],
   "metadata": {
    "collapsed": false,
    "pycharm": {
     "name": "#%%\n",
     "is_executing": false
    }
   }
  },
  {
   "cell_type": "markdown",
   "source": [
    "### Apply the Classifier method for neighbourhood group"
   ],
   "metadata": {
    "collapsed": false,
    "pycharm": {
     "name": "#%% md\n",
     "is_executing": false
    }
   }
  },
  {
   "cell_type": "code",
   "execution_count": null,
   "outputs": [],
   "source": [],
   "metadata": {
    "collapsed": false,
    "pycharm": {
     "name": "#%%\n"
    }
   }
  }
 ],
 "metadata": {
  "kernelspec": {
   "display_name": "Python 3",
   "language": "python",
   "name": "python3"
  },
  "language_info": {
   "codemirror_mode": {
    "name": "ipython",
    "version": 2
   },
   "file_extension": ".py",
   "mimetype": "text/x-python",
   "name": "python",
   "nbconvert_exporter": "python",
   "pygments_lexer": "ipython2",
   "version": "2.7.6"
  },
  "pycharm": {
   "stem_cell": {
    "cell_type": "raw",
    "source": [],
    "metadata": {
     "collapsed": false
    }
   }
  }
 },
 "nbformat": 4,
 "nbformat_minor": 0
}